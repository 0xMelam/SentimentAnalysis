{
 "cells": [
  {
   "cell_type": "markdown",
   "metadata": {
    "id": "MRVerkkw_Ov-"
   },
   "source": [
    "# Sentiment Analysis of RateMyProfessor data using pretrained word embeddings\n",
    "## Word embedding model used: glove-wiki-gigaword-300\n",
    "### Model details: Pre-trained glove vectors based on **2 Billion tweets, 27 Billion tokens, 1.2 Million vocab, uncased.**"
   ]
  },
  {
   "cell_type": "markdown",
   "metadata": {
    "id": "x5TMXbxiCRMY"
   },
   "source": [
    "Solution reference: https://towardsdatascience.com/text-classification-with-nlp-tf-idf-vs-word2vec-vs-bert-41ff868d1794"
   ]
  },
  {
   "cell_type": "markdown",
   "metadata": {
    "id": "xjQpgi_Ntotb"
   },
   "source": [
    "### Importing the required packages"
   ]
  },
  {
   "cell_type": "code",
   "execution_count": 1,
   "metadata": {
    "colab": {
     "base_uri": "https://localhost:8080/"
    },
    "executionInfo": {
     "elapsed": 9571,
     "status": "ok",
     "timestamp": 1649483091658,
     "user": {
      "displayName": "Md Yusuf Khan",
      "userId": "15071130410239466117"
     },
     "user_tz": 240
    },
    "id": "EmhbrXSr1Crn",
    "outputId": "57fda1c9-1844-4e81-d1e6-22390ced2736"
   },
   "outputs": [
    {
     "name": "stdout",
     "output_type": "stream",
     "text": [
      "Requirement already satisfied: transformers in /usr/local/lib/python3.7/dist-packages (4.18.0)\n",
      "Requirement already satisfied: filelock in /usr/local/lib/python3.7/dist-packages (from transformers) (3.6.0)\n",
      "Requirement already satisfied: requests in /usr/local/lib/python3.7/dist-packages (from transformers) (2.23.0)\n",
      "Requirement already satisfied: huggingface-hub<1.0,>=0.1.0 in /usr/local/lib/python3.7/dist-packages (from transformers) (0.5.1)\n",
      "Requirement already satisfied: packaging>=20.0 in /usr/local/lib/python3.7/dist-packages (from transformers) (21.3)\n",
      "Requirement already satisfied: sacremoses in /usr/local/lib/python3.7/dist-packages (from transformers) (0.0.49)\n",
      "Requirement already satisfied: numpy>=1.17 in /usr/local/lib/python3.7/dist-packages (from transformers) (1.21.5)\n",
      "Requirement already satisfied: regex!=2019.12.17 in /usr/local/lib/python3.7/dist-packages (from transformers) (2019.12.20)\n",
      "Requirement already satisfied: tokenizers!=0.11.3,<0.13,>=0.11.1 in /usr/local/lib/python3.7/dist-packages (from transformers) (0.11.6)\n",
      "Requirement already satisfied: tqdm>=4.27 in /usr/local/lib/python3.7/dist-packages (from transformers) (4.63.0)\n",
      "Requirement already satisfied: importlib-metadata in /usr/local/lib/python3.7/dist-packages (from transformers) (4.11.3)\n",
      "Requirement already satisfied: pyyaml>=5.1 in /usr/local/lib/python3.7/dist-packages (from transformers) (6.0)\n",
      "Requirement already satisfied: typing-extensions>=3.7.4.3 in /usr/local/lib/python3.7/dist-packages (from huggingface-hub<1.0,>=0.1.0->transformers) (3.10.0.2)\n",
      "Requirement already satisfied: pyparsing!=3.0.5,>=2.0.2 in /usr/local/lib/python3.7/dist-packages (from packaging>=20.0->transformers) (3.0.7)\n",
      "Requirement already satisfied: zipp>=0.5 in /usr/local/lib/python3.7/dist-packages (from importlib-metadata->transformers) (3.7.0)\n",
      "Requirement already satisfied: certifi>=2017.4.17 in /usr/local/lib/python3.7/dist-packages (from requests->transformers) (2021.10.8)\n",
      "Requirement already satisfied: chardet<4,>=3.0.2 in /usr/local/lib/python3.7/dist-packages (from requests->transformers) (3.0.4)\n",
      "Requirement already satisfied: idna<3,>=2.5 in /usr/local/lib/python3.7/dist-packages (from requests->transformers) (2.10)\n",
      "Requirement already satisfied: urllib3!=1.25.0,!=1.25.1,<1.26,>=1.21.1 in /usr/local/lib/python3.7/dist-packages (from requests->transformers) (1.24.3)\n",
      "Requirement already satisfied: six in /usr/local/lib/python3.7/dist-packages (from sacremoses->transformers) (1.15.0)\n",
      "Requirement already satisfied: joblib in /usr/local/lib/python3.7/dist-packages (from sacremoses->transformers) (1.1.0)\n",
      "Requirement already satisfied: click in /usr/local/lib/python3.7/dist-packages (from sacremoses->transformers) (7.1.2)\n"
     ]
    }
   ],
   "source": [
    "pip install transformers,lime"
   ]
  },
  {
   "cell_type": "code",
   "execution_count": 1,
   "metadata": {
    "executionInfo": {
     "elapsed": 9084,
     "status": "ok",
     "timestamp": 1649485322533,
     "user": {
      "displayName": "Md Yusuf Khan",
      "userId": "15071130410239466117"
     },
     "user_tz": 240
    },
    "id": "kEKREqz0oxN1"
   },
   "outputs": [],
   "source": [
    "import pandas as pd\n",
    "import numpy as np\n",
    "import matplotlib.pyplot as plt\n",
    "import seaborn as sns\n",
    "import re\n",
    "import nltk\n",
    "from sklearn import feature_extraction, model_selection, naive_bayes, pipeline, manifold, preprocessing\n",
    "from lime import lime_text\n",
    "import gensim\n",
    "import gensim.downloader as gensim_api\n",
    "from tensorflow.keras import models, layers, preprocessing as kprocessing\n",
    "from tensorflow.keras import backend as K\n",
    "import transformers\n",
    "from sklearn import metrics"
   ]
  },
  {
   "cell_type": "markdown",
   "metadata": {
    "id": "T-_w-lONwG7X"
   },
   "source": [
    "### Dataset Loading and Analysis"
   ]
  },
  {
   "cell_type": "code",
   "execution_count": 2,
   "metadata": {
    "colab": {
     "base_uri": "https://localhost:8080/",
     "height": 206
    },
    "executionInfo": {
     "elapsed": 272,
     "status": "ok",
     "timestamp": 1649485328564,
     "user": {
      "displayName": "Md Yusuf Khan",
      "userId": "15071130410239466117"
     },
     "user_tz": 240
    },
    "id": "uWCdgF0jtzyX",
    "outputId": "e64366db-29b7-41b5-eb41-a569ab7cf914"
   },
   "outputs": [
    {
     "data": {
      "text/html": [
       "\n",
       "  <div id=\"df-7f4b2efb-f13e-4cbf-963d-d4f506c3f728\">\n",
       "    <div class=\"colab-df-container\">\n",
       "      <div>\n",
       "<style scoped>\n",
       "    .dataframe tbody tr th:only-of-type {\n",
       "        vertical-align: middle;\n",
       "    }\n",
       "\n",
       "    .dataframe tbody tr th {\n",
       "        vertical-align: top;\n",
       "    }\n",
       "\n",
       "    .dataframe thead th {\n",
       "        text-align: right;\n",
       "    }\n",
       "</style>\n",
       "<table border=\"1\" class=\"dataframe\">\n",
       "  <thead>\n",
       "    <tr style=\"text-align: right;\">\n",
       "      <th></th>\n",
       "      <th>y</th>\n",
       "      <th>text</th>\n",
       "    </tr>\n",
       "  </thead>\n",
       "  <tbody>\n",
       "    <tr>\n",
       "      <th>8805</th>\n",
       "      <td>Good</td>\n",
       "      <td>She knows her stuff and is very helpful. CS le...</td>\n",
       "    </tr>\n",
       "    <tr>\n",
       "      <th>10039</th>\n",
       "      <td>Good</td>\n",
       "      <td>Expects a lot of his students and is very help...</td>\n",
       "    </tr>\n",
       "    <tr>\n",
       "      <th>4770</th>\n",
       "      <td>Good</td>\n",
       "      <td>The course starts of hard and gets easier as t...</td>\n",
       "    </tr>\n",
       "    <tr>\n",
       "      <th>3553</th>\n",
       "      <td>Good</td>\n",
       "      <td>This is my favorite class I have taken ever. P...</td>\n",
       "    </tr>\n",
       "    <tr>\n",
       "      <th>10176</th>\n",
       "      <td>Good</td>\n",
       "      <td>No Comments</td>\n",
       "    </tr>\n",
       "  </tbody>\n",
       "</table>\n",
       "</div>\n",
       "      <button class=\"colab-df-convert\" onclick=\"convertToInteractive('df-7f4b2efb-f13e-4cbf-963d-d4f506c3f728')\"\n",
       "              title=\"Convert this dataframe to an interactive table.\"\n",
       "              style=\"display:none;\">\n",
       "        \n",
       "  <svg xmlns=\"http://www.w3.org/2000/svg\" height=\"24px\"viewBox=\"0 0 24 24\"\n",
       "       width=\"24px\">\n",
       "    <path d=\"M0 0h24v24H0V0z\" fill=\"none\"/>\n",
       "    <path d=\"M18.56 5.44l.94 2.06.94-2.06 2.06-.94-2.06-.94-.94-2.06-.94 2.06-2.06.94zm-11 1L8.5 8.5l.94-2.06 2.06-.94-2.06-.94L8.5 2.5l-.94 2.06-2.06.94zm10 10l.94 2.06.94-2.06 2.06-.94-2.06-.94-.94-2.06-.94 2.06-2.06.94z\"/><path d=\"M17.41 7.96l-1.37-1.37c-.4-.4-.92-.59-1.43-.59-.52 0-1.04.2-1.43.59L10.3 9.45l-7.72 7.72c-.78.78-.78 2.05 0 2.83L4 21.41c.39.39.9.59 1.41.59.51 0 1.02-.2 1.41-.59l7.78-7.78 2.81-2.81c.8-.78.8-2.07 0-2.86zM5.41 20L4 18.59l7.72-7.72 1.47 1.35L5.41 20z\"/>\n",
       "  </svg>\n",
       "      </button>\n",
       "      \n",
       "  <style>\n",
       "    .colab-df-container {\n",
       "      display:flex;\n",
       "      flex-wrap:wrap;\n",
       "      gap: 12px;\n",
       "    }\n",
       "\n",
       "    .colab-df-convert {\n",
       "      background-color: #E8F0FE;\n",
       "      border: none;\n",
       "      border-radius: 50%;\n",
       "      cursor: pointer;\n",
       "      display: none;\n",
       "      fill: #1967D2;\n",
       "      height: 32px;\n",
       "      padding: 0 0 0 0;\n",
       "      width: 32px;\n",
       "    }\n",
       "\n",
       "    .colab-df-convert:hover {\n",
       "      background-color: #E2EBFA;\n",
       "      box-shadow: 0px 1px 2px rgba(60, 64, 67, 0.3), 0px 1px 3px 1px rgba(60, 64, 67, 0.15);\n",
       "      fill: #174EA6;\n",
       "    }\n",
       "\n",
       "    [theme=dark] .colab-df-convert {\n",
       "      background-color: #3B4455;\n",
       "      fill: #D2E3FC;\n",
       "    }\n",
       "\n",
       "    [theme=dark] .colab-df-convert:hover {\n",
       "      background-color: #434B5C;\n",
       "      box-shadow: 0px 1px 3px 1px rgba(0, 0, 0, 0.15);\n",
       "      filter: drop-shadow(0px 1px 2px rgba(0, 0, 0, 0.3));\n",
       "      fill: #FFFFFF;\n",
       "    }\n",
       "  </style>\n",
       "\n",
       "      <script>\n",
       "        const buttonEl =\n",
       "          document.querySelector('#df-7f4b2efb-f13e-4cbf-963d-d4f506c3f728 button.colab-df-convert');\n",
       "        buttonEl.style.display =\n",
       "          google.colab.kernel.accessAllowed ? 'block' : 'none';\n",
       "\n",
       "        async function convertToInteractive(key) {\n",
       "          const element = document.querySelector('#df-7f4b2efb-f13e-4cbf-963d-d4f506c3f728');\n",
       "          const dataTable =\n",
       "            await google.colab.kernel.invokeFunction('convertToInteractive',\n",
       "                                                     [key], {});\n",
       "          if (!dataTable) return;\n",
       "\n",
       "          const docLinkHtml = 'Like what you see? Visit the ' +\n",
       "            '<a target=\"_blank\" href=https://colab.research.google.com/notebooks/data_table.ipynb>data table notebook</a>'\n",
       "            + ' to learn more about interactive tables.';\n",
       "          element.innerHTML = '';\n",
       "          dataTable['output_type'] = 'display_data';\n",
       "          await google.colab.output.renderOutput(dataTable, element);\n",
       "          const docLink = document.createElement('div');\n",
       "          docLink.innerHTML = docLinkHtml;\n",
       "          element.appendChild(docLink);\n",
       "        }\n",
       "      </script>\n",
       "    </div>\n",
       "  </div>\n",
       "  "
      ],
      "text/plain": [
       "          y                                               text\n",
       "8805   Good  She knows her stuff and is very helpful. CS le...\n",
       "10039  Good  Expects a lot of his students and is very help...\n",
       "4770   Good  The course starts of hard and gets easier as t...\n",
       "3553   Good  This is my favorite class I have taken ever. P...\n",
       "10176  Good                                        No Comments"
      ]
     },
     "execution_count": 2,
     "metadata": {},
     "output_type": "execute_result"
    }
   ],
   "source": [
    "#Importing the data\n",
    "data = pd.read_csv(\"/content/drive/MyDrive/Lakehead/Winter 2021/COMP 5014 Natural Language Processing/Final report/data_stripped.csv\")\n",
    "\n",
    "\n",
    "#Changing the student star ratings to different labels\n",
    "# 4.0 - 5.0 is Good\n",
    "# 2.5 - 3.5 is Average\n",
    "# 1.0 - 2.0 is Bad\n",
    "data['student_star'] = data['student_star'].replace([5.0],'Good')\n",
    "data['student_star'] = data['student_star'].replace([4.5],'Good')\n",
    "data['student_star'] = data['student_star'].replace([4.0],'Good')\n",
    "\n",
    "data['student_star'] = data['student_star'].replace([3.5],'Average')\n",
    "data['student_star'] = data['student_star'].replace([3.0],'Average')\n",
    "data['student_star'] = data['student_star'].replace([2.5],'Average')\n",
    "\n",
    "data['student_star'] = data['student_star'].replace([2.0],'Bad')\n",
    "data['student_star'] = data['student_star'].replace([1.5],'Bad')\n",
    "data['student_star'] = data['student_star'].replace([1.0],'Bad')\n",
    "\n",
    "# Renaming columns\n",
    "data = data.rename(columns={\"student_star\":\"y\", \"comments\":\"text\"})\n",
    "\n",
    "# Removing blank rows\n",
    "data = data.dropna()\n",
    "\n",
    "# Snapshot of the raw data\n",
    "data.sample(5)"
   ]
  },
  {
   "cell_type": "code",
   "execution_count": 3,
   "metadata": {
    "colab": {
     "base_uri": "https://localhost:8080/"
    },
    "executionInfo": {
     "elapsed": 114,
     "status": "ok",
     "timestamp": 1649485335091,
     "user": {
      "displayName": "Md Yusuf Khan",
      "userId": "15071130410239466117"
     },
     "user_tz": 240
    },
    "id": "gHvejuk1v_rO",
    "outputId": "520e07f1-cc89-47ac-c646-0f3d00c7aae0"
   },
   "outputs": [
    {
     "data": {
      "text/plain": [
       "Good       11814\n",
       "Bad         4764\n",
       "Average     3415\n",
       "Name: y, dtype: int64"
      ]
     },
     "execution_count": 3,
     "metadata": {},
     "output_type": "execute_result"
    }
   ],
   "source": [
    "# Looking at the total counts for each class\n",
    "data['y'].value_counts()"
   ]
  },
  {
   "cell_type": "code",
   "execution_count": 4,
   "metadata": {
    "colab": {
     "base_uri": "https://localhost:8080/",
     "height": 308
    },
    "executionInfo": {
     "elapsed": 253,
     "status": "ok",
     "timestamp": 1649485336340,
     "user": {
      "displayName": "Md Yusuf Khan",
      "userId": "15071130410239466117"
     },
     "user_tz": 240
    },
    "id": "RVNbz2knwfPm",
    "outputId": "739d2ee3-797f-468a-a38b-5eab3aefffcb"
   },
   "outputs": [
    {
     "data": {
      "image/png": "[encoded data removed]",
      "text/plain": [
       "<Figure size 432x288 with 1 Axes>"
      ]
     },
     "metadata": {
      "needs_background": "light"
     },
     "output_type": "display_data"
    }
   ],
   "source": [
    "# Visualizing the class distribution\n",
    "fig, ax = plt.subplots()\n",
    "fig.suptitle(\"Class distribution\")\n",
    "data[\"y\"].reset_index().groupby(\"y\").count().sort_values(by = \"index\").plot(kind=\"barh\", legend=False, ax=ax).grid(axis='x')\n",
    "plt.ylabel(\"Classes\")\n",
    "plt.xlabel(\"Count\")\n",
    "plt.show()"
   ]
  },
  {
   "cell_type": "markdown",
   "metadata": {
    "id": "JnkShSfKxpXx"
   },
   "source": [
    "### Text Processing"
   ]
  },
  {
   "cell_type": "code",
   "execution_count": 5,
   "metadata": {
    "executionInfo": {
     "elapsed": 97,
     "status": "ok",
     "timestamp": 1649485338300,
     "user": {
      "displayName": "Md Yusuf Khan",
      "userId": "15071130410239466117"
     },
     "user_tz": 240
    },
    "id": "W8HllnBxxo-2"
   },
   "outputs": [],
   "source": [
    "#Function to preprocess a string\n",
    "\n",
    "def utils_preprocess_text(text, lst_stopwords=None):\n",
    "\n",
    "    ## clean (convert to lowercase and remove punctuations and characters and then strip)\n",
    "    text = re.sub(r'[^\\w\\s]', '', str(text).lower().strip())\n",
    "            \n",
    "    ## Tokenize (convert from string to list)\n",
    "    lst_text = text.split()\n",
    "    ## remove Stopwords\n",
    "    if lst_stopwords is not None:\n",
    "        lst_text = [word for word in lst_text if word not in lst_stopwords]\n",
    "                \n",
    "    ## Stemming (remove -ing, -ly, ...)\n",
    "    ps = nltk.stem.porter.PorterStemmer()\n",
    "    lst_text = [ps.stem(word) for word in lst_text]\n",
    "                \n",
    "    ## Lemmatisation (convert the word into root word)\n",
    "    lem = nltk.stem.wordnet.WordNetLemmatizer()\n",
    "    lst_text = [lem.lemmatize(word) for word in lst_text]\n",
    "            \n",
    "    ## back to string from list\n",
    "    text = \" \".join(lst_text)\n",
    "    return text"
   ]
  },
  {
   "cell_type": "code",
   "execution_count": 6,
   "metadata": {
    "colab": {
     "base_uri": "https://localhost:8080/"
    },
    "executionInfo": {
     "elapsed": 258,
     "status": "ok",
     "timestamp": 1649485340312,
     "user": {
      "displayName": "Md Yusuf Khan",
      "userId": "15071130410239466117"
     },
     "user_tz": 240
    },
    "id": "kxhb6eohy4tw",
    "outputId": "c58add85-8263-4916-95ce-9ee4eea15993"
   },
   "outputs": [
    {
     "name": "stdout",
     "output_type": "stream",
     "text": [
      "[nltk_data] Downloading package stopwords to /root/nltk_data...\n",
      "[nltk_data]   Package stopwords is already up-to-date!\n",
      "[nltk_data] Downloading package wordnet to /root/nltk_data...\n",
      "[nltk_data]   Package wordnet is already up-to-date!\n"
     ]
    }
   ],
   "source": [
    "# Getting the english stopwords\n",
    "nltk.download('stopwords')\n",
    "nltk.download('wordnet')\n",
    "lst_stopwords = nltk.corpus.stopwords.words(\"english\")"
   ]
  },
  {
   "cell_type": "code",
   "execution_count": 7,
   "metadata": {
    "executionInfo": {
     "elapsed": 15457,
     "status": "ok",
     "timestamp": 1649485357130,
     "user": {
      "displayName": "Md Yusuf Khan",
      "userId": "15071130410239466117"
     },
     "user_tz": 240
    },
    "id": "lIb6KL4HzHqV"
   },
   "outputs": [],
   "source": [
    "# Applying the preprocessing function on the text column of the data set. The preprocessed text is saved in a new column called text_clean\n",
    "data[\"text_clean\"] = data[\"text\"].apply(lambda x: utils_preprocess_text(x, lst_stopwords=lst_stopwords))"
   ]
  },
  {
   "cell_type": "code",
   "execution_count": 8,
   "metadata": {
    "colab": {
     "base_uri": "https://localhost:8080/",
     "height": 206
    },
    "executionInfo": {
     "elapsed": 100,
     "status": "ok",
     "timestamp": 1649485360002,
     "user": {
      "displayName": "Md Yusuf Khan",
      "userId": "15071130410239466117"
     },
     "user_tz": 240
    },
    "id": "NtmXt-SAzkLl",
    "outputId": "68898422-ca5e-43d5-f334-5c566efa1cc6"
   },
   "outputs": [
    {
     "data": {
      "text/html": [
       "\n",
       "  <div id=\"df-56bebbe5-01ed-417b-93a9-5469295d7b3d\">\n",
       "    <div class=\"colab-df-container\">\n",
       "      <div>\n",
       "<style scoped>\n",
       "    .dataframe tbody tr th:only-of-type {\n",
       "        vertical-align: middle;\n",
       "    }\n",
       "\n",
       "    .dataframe tbody tr th {\n",
       "        vertical-align: top;\n",
       "    }\n",
       "\n",
       "    .dataframe thead th {\n",
       "        text-align: right;\n",
       "    }\n",
       "</style>\n",
       "<table border=\"1\" class=\"dataframe\">\n",
       "  <thead>\n",
       "    <tr style=\"text-align: right;\">\n",
       "      <th></th>\n",
       "      <th>y</th>\n",
       "      <th>text</th>\n",
       "      <th>text_clean</th>\n",
       "    </tr>\n",
       "  </thead>\n",
       "  <tbody>\n",
       "    <tr>\n",
       "      <th>11274</th>\n",
       "      <td>Good</td>\n",
       "      <td>At first, he may seem a bit confusing, but giv...</td>\n",
       "      <td>first may seem bit confus give time trueli one...</td>\n",
       "    </tr>\n",
       "    <tr>\n",
       "      <th>8416</th>\n",
       "      <td>Bad</td>\n",
       "      <td>The class was not useful at all. The most impo...</td>\n",
       "      <td>class use import thing professor fake respect ...</td>\n",
       "    </tr>\n",
       "    <tr>\n",
       "      <th>5820</th>\n",
       "      <td>Bad</td>\n",
       "      <td>boring, uninspiring, uptight and snappy</td>\n",
       "      <td>bore uninspir uptight snappi</td>\n",
       "    </tr>\n",
       "    <tr>\n",
       "      <th>15497</th>\n",
       "      <td>Average</td>\n",
       "      <td>I dunno what this first guy is saying. She was...</td>\n",
       "      <td>dunno first guy say first proff actual make lo...</td>\n",
       "    </tr>\n",
       "    <tr>\n",
       "      <th>12809</th>\n",
       "      <td>Average</td>\n",
       "      <td>Extremely boring, give a lot of tests and read...</td>\n",
       "      <td>extrem bore give lot test read abil talk class...</td>\n",
       "    </tr>\n",
       "  </tbody>\n",
       "</table>\n",
       "</div>\n",
       "      <button class=\"colab-df-convert\" onclick=\"convertToInteractive('df-56bebbe5-01ed-417b-93a9-5469295d7b3d')\"\n",
       "              title=\"Convert this dataframe to an interactive table.\"\n",
       "              style=\"display:none;\">\n",
       "        \n",
       "  <svg xmlns=\"http://www.w3.org/2000/svg\" height=\"24px\"viewBox=\"0 0 24 24\"\n",
       "       width=\"24px\">\n",
       "    <path d=\"M0 0h24v24H0V0z\" fill=\"none\"/>\n",
       "    <path d=\"M18.56 5.44l.94 2.06.94-2.06 2.06-.94-2.06-.94-.94-2.06-.94 2.06-2.06.94zm-11 1L8.5 8.5l.94-2.06 2.06-.94-2.06-.94L8.5 2.5l-.94 2.06-2.06.94zm10 10l.94 2.06.94-2.06 2.06-.94-2.06-.94-.94-2.06-.94 2.06-2.06.94z\"/><path d=\"M17.41 7.96l-1.37-1.37c-.4-.4-.92-.59-1.43-.59-.52 0-1.04.2-1.43.59L10.3 9.45l-7.72 7.72c-.78.78-.78 2.05 0 2.83L4 21.41c.39.39.9.59 1.41.59.51 0 1.02-.2 1.41-.59l7.78-7.78 2.81-2.81c.8-.78.8-2.07 0-2.86zM5.41 20L4 18.59l7.72-7.72 1.47 1.35L5.41 20z\"/>\n",
       "  </svg>\n",
       "      </button>\n",
       "      \n",
       "  <style>\n",
       "    .colab-df-container {\n",
       "      display:flex;\n",
       "      flex-wrap:wrap;\n",
       "      gap: 12px;\n",
       "    }\n",
       "\n",
       "    .colab-df-convert {\n",
       "      background-color: #E8F0FE;\n",
       "      border: none;\n",
       "      border-radius: 50%;\n",
       "      cursor: pointer;\n",
       "      display: none;\n",
       "      fill: #1967D2;\n",
       "      height: 32px;\n",
       "      padding: 0 0 0 0;\n",
       "      width: 32px;\n",
       "    }\n",
       "\n",
       "    .colab-df-convert:hover {\n",
       "      background-color: #E2EBFA;\n",
       "      box-shadow: 0px 1px 2px rgba(60, 64, 67, 0.3), 0px 1px 3px 1px rgba(60, 64, 67, 0.15);\n",
       "      fill: #174EA6;\n",
       "    }\n",
       "\n",
       "    [theme=dark] .colab-df-convert {\n",
       "      background-color: #3B4455;\n",
       "      fill: #D2E3FC;\n",
       "    }\n",
       "\n",
       "    [theme=dark] .colab-df-convert:hover {\n",
       "      background-color: #434B5C;\n",
       "      box-shadow: 0px 1px 3px 1px rgba(0, 0, 0, 0.15);\n",
       "      filter: drop-shadow(0px 1px 2px rgba(0, 0, 0, 0.3));\n",
       "      fill: #FFFFFF;\n",
       "    }\n",
       "  </style>\n",
       "\n",
       "      <script>\n",
       "        const buttonEl =\n",
       "          document.querySelector('#df-56bebbe5-01ed-417b-93a9-5469295d7b3d button.colab-df-convert');\n",
       "        buttonEl.style.display =\n",
       "          google.colab.kernel.accessAllowed ? 'block' : 'none';\n",
       "\n",
       "        async function convertToInteractive(key) {\n",
       "          const element = document.querySelector('#df-56bebbe5-01ed-417b-93a9-5469295d7b3d');\n",
       "          const dataTable =\n",
       "            await google.colab.kernel.invokeFunction('convertToInteractive',\n",
       "                                                     [key], {});\n",
       "          if (!dataTable) return;\n",
       "\n",
       "          const docLinkHtml = 'Like what you see? Visit the ' +\n",
       "            '<a target=\"_blank\" href=https://colab.research.google.com/notebooks/data_table.ipynb>data table notebook</a>'\n",
       "            + ' to learn more about interactive tables.';\n",
       "          element.innerHTML = '';\n",
       "          dataTable['output_type'] = 'display_data';\n",
       "          await google.colab.output.renderOutput(dataTable, element);\n",
       "          const docLink = document.createElement('div');\n",
       "          docLink.innerHTML = docLinkHtml;\n",
       "          element.appendChild(docLink);\n",
       "        }\n",
       "      </script>\n",
       "    </div>\n",
       "  </div>\n",
       "  "
      ],
      "text/plain": [
       "             y                                               text  \\\n",
       "11274     Good  At first, he may seem a bit confusing, but giv...   \n",
       "8416       Bad  The class was not useful at all. The most impo...   \n",
       "5820       Bad            boring, uninspiring, uptight and snappy   \n",
       "15497  Average  I dunno what this first guy is saying. She was...   \n",
       "12809  Average  Extremely boring, give a lot of tests and read...   \n",
       "\n",
       "                                              text_clean  \n",
       "11274  first may seem bit confus give time trueli one...  \n",
       "8416   class use import thing professor fake respect ...  \n",
       "5820                        bore uninspir uptight snappi  \n",
       "15497  dunno first guy say first proff actual make lo...  \n",
       "12809  extrem bore give lot test read abil talk class...  "
      ]
     },
     "execution_count": 8,
     "metadata": {},
     "output_type": "execute_result"
    }
   ],
   "source": [
    "# Snapshot of the data after cleaning\n",
    "data.sample(5)"
   ]
  },
  {
   "cell_type": "code",
   "execution_count": 9,
   "metadata": {
    "executionInfo": {
     "elapsed": 99,
     "status": "ok",
     "timestamp": 1649485362098,
     "user": {
      "displayName": "Md Yusuf Khan",
      "userId": "15071130410239466117"
     },
     "user_tz": 240
    },
    "id": "Nh9Pgqlpz65I"
   },
   "outputs": [],
   "source": [
    "# Splitting the data into 70% training and 30% testing\n",
    "data_train, data_test = model_selection.train_test_split(data, test_size=0.3)\n",
    "\n",
    "# Getting the target\n",
    "y_train = data_train[\"y\"].values\n",
    "y_test = data_test[\"y\"].values"
   ]
  },
  {
   "cell_type": "markdown",
   "metadata": {
    "id": "f83-CBic3AnO"
   },
   "source": [
    "### Word Embedding Model"
   ]
  },
  {
   "cell_type": "code",
   "execution_count": 10,
   "metadata": {
    "executionInfo": {
     "elapsed": 5353,
     "status": "ok",
     "timestamp": 1649485368715,
     "user": {
      "displayName": "Md Yusuf Khan",
      "userId": "15071130410239466117"
     },
     "user_tz": 240
    },
    "id": "Zd5XV2BkqobW"
   },
   "outputs": [],
   "source": [
    "corpus = data_train[\"text_clean\"]\n",
    "\n",
    "# Create list of lists of unigrams\n",
    "lst_corpus = []\n",
    "for string in corpus:\n",
    "   lst_words = string.split()\n",
    "   lst_grams = [\" \".join(lst_words[i:i+1]) \n",
    "               for i in range(0, len(lst_words), 1)]\n",
    "   lst_corpus.append(lst_grams)\n",
    "\n",
    "# Detect bigrams and trigrams\n",
    "bigrams_detector = gensim.models.phrases.Phrases(lst_corpus, delimiter=\" \".encode(), min_count=5, threshold=10)\n",
    "bigrams_detector = gensim.models.phrases.Phraser(bigrams_detector)\n",
    "\n",
    "trigrams_detector = gensim.models.phrases.Phrases(bigrams_detector[lst_corpus], delimiter=\" \".encode(), min_count=5, threshold=10)\n",
    "trigrams_detector = gensim.models.phrases.Phraser(trigrams_detector)"
   ]
  },
  {
   "cell_type": "code",
   "execution_count": 11,
   "metadata": {
    "executionInfo": {
     "elapsed": 100591,
     "status": "ok",
     "timestamp": 1649485533508,
     "user": {
      "displayName": "Md Yusuf Khan",
      "userId": "15071130410239466117"
     },
     "user_tz": 240
    },
    "id": "V7AumV8r2tIN"
   },
   "outputs": [],
   "source": [
    "# Loading the pre-trained Word Embedding model \n",
    "\n",
    "nlp = gensim_api.load(\"glove-wiki-gigaword-300\")"
   ]
  },
  {
   "cell_type": "code",
   "execution_count": 12,
   "metadata": {
    "colab": {
     "base_uri": "https://localhost:8080/"
    },
    "executionInfo": {
     "elapsed": 102,
     "status": "ok",
     "timestamp": 1649485547520,
     "user": {
      "displayName": "Md Yusuf Khan",
      "userId": "15071130410239466117"
     },
     "user_tz": 240
    },
    "id": "Todc9Wg84GLA",
    "outputId": "b80bcfb6-c2c6-40a2-f54d-5a41178a97c7"
   },
   "outputs": [
    {
     "data": {
      "text/plain": [
       "(300,)"
      ]
     },
     "execution_count": 12,
     "metadata": {},
     "output_type": "execute_result"
    }
   ],
   "source": [
    "# Checking if word is transformed into a vector\n",
    "word = \"bad\"\n",
    "nlp[word].shape"
   ]
  },
  {
   "cell_type": "code",
   "execution_count": 13,
   "metadata": {
    "colab": {
     "base_uri": "https://localhost:8080/",
     "height": 424
    },
    "executionInfo": {
     "elapsed": 1443,
     "status": "ok",
     "timestamp": 1649485551570,
     "user": {
      "displayName": "Md Yusuf Khan",
      "userId": "15071130410239466117"
     },
     "user_tz": 240
    },
    "id": "ImHhTTTG4V2A",
    "outputId": "3d3db21b-dbed-4504-f055-ccb9bb7ce4fa"
   },
   "outputs": [
    {
     "name": "stderr",
     "output_type": "stream",
     "text": [
      "/usr/local/lib/python3.7/dist-packages/sklearn/manifold/_t_sne.py:793: FutureWarning: The default learning rate in TSNE will change from 200.0 to 'auto' in 1.2.\n",
      "  FutureWarning,\n",
      "/usr/local/lib/python3.7/dist-packages/sklearn/manifold/_t_sne.py:986: FutureWarning: The PCA initialization in TSNE will change to have the standard deviation of PC1 equal to 1e-4 in 1.2. This will ensure better convergence.\n",
      "  FutureWarning,\n",
      "/usr/local/lib/python3.7/dist-packages/pandas/core/indexing.py:1732: SettingWithCopyWarning: \n",
      "A value is trying to be set on a copy of a slice from a DataFrame\n",
      "\n",
      "See the caveats in the documentation: https://pandas.pydata.org/pandas-docs/stable/user_guide/indexing.html#returning-a-view-versus-a-copy\n",
      "  self._setitem_single_block(indexer, value, name)\n"
     ]
    },
    {
     "data": {
      "image/png": "[encoded data removed]",
      "text/plain": [
       "<Figure size 432x288 with 1 Axes>"
      ]
     },
     "metadata": {
      "needs_background": "light"
     },
     "output_type": "display_data"
    }
   ],
   "source": [
    "# Visualizing a given word and its context into a smaller dimensional space\n",
    "\n",
    "word = \"bad\"\n",
    "fig = plt.figure()\n",
    "\n",
    "# Word embedding\n",
    "tot_words = [word] + [tupla[0] for tupla in nlp.most_similar(word, topn=20)]\n",
    "X = nlp[tot_words]\n",
    "\n",
    "# PCS to reduce dimensionality from 300 to 3\n",
    "pca = manifold.TSNE(perplexity=40, n_components=3, init='pca')\n",
    "X = pca.fit_transform(X)\n",
    "\n",
    "# Create dataframe\n",
    "dtf_ = pd.DataFrame(X, index=tot_words, columns=[\"x\",\"y\",\"z\"])\n",
    "dtf_[\"input\"] = 0\n",
    "dtf_[\"input\"].iloc[0:1] = 1\n",
    "\n",
    "# Making a 3D plot\n",
    "from mpl_toolkits.mplot3d import Axes3D\n",
    "\n",
    "ax = fig.add_subplot(111, projection='3d')\n",
    "ax.scatter(dtf_[dtf_[\"input\"]==0]['x'], dtf_[dtf_[\"input\"]==0]['y'], dtf_[dtf_[\"input\"]==0]['z'], c=\"black\")\n",
    "ax.scatter(dtf_[dtf_[\"input\"]==1]['x'], dtf_[dtf_[\"input\"]==1]['y'], dtf_[dtf_[\"input\"]==1]['z'], c=\"red\")\n",
    "ax.set(xlabel=None, ylabel=None, zlabel=None, xticklabels=[], yticklabels=[], zticklabels=[])\n",
    "\n",
    "for label, row in dtf_[[\"x\",\"y\",\"z\"]].iterrows():\n",
    "    x, y, z = row\n",
    "    ax.text(x, y, z, s=label)"
   ]
  },
  {
   "cell_type": "markdown",
   "metadata": {
    "id": "4VcZsLXw-Hp3"
   },
   "source": [
    "Feature engineering on training set"
   ]
  },
  {
   "cell_type": "code",
   "execution_count": 14,
   "metadata": {
    "executionInfo": {
     "elapsed": 318,
     "status": "ok",
     "timestamp": 1649485584625,
     "user": {
      "displayName": "Md Yusuf Khan",
      "userId": "15071130410239466117"
     },
     "user_tz": 240
    },
    "id": "qcXOOI51755o"
   },
   "outputs": [],
   "source": [
    "# Tokenize text\n",
    "tokenizer = kprocessing.text.Tokenizer(lower=True, split=' ', \n",
    "                     oov_token=\"NaN\", \n",
    "                     filters='!\"#$%&()*+,-./:;<=>?@[\\\\]^_`{|}~\\t\\n')\n",
    "tokenizer.fit_on_texts(lst_corpus)\n",
    "dic_vocabulary = tokenizer.word_index"
   ]
  },
  {
   "cell_type": "code",
   "execution_count": 15,
   "metadata": {
    "executionInfo": {
     "elapsed": 201,
     "status": "ok",
     "timestamp": 1649485588063,
     "user": {
      "displayName": "Md Yusuf Khan",
      "userId": "15071130410239466117"
     },
     "user_tz": 240
    },
    "id": "S04fGP6s8AXH"
   },
   "outputs": [],
   "source": [
    "# Create sequence\n",
    "lst_text2seq= tokenizer.texts_to_sequences(lst_corpus)"
   ]
  },
  {
   "cell_type": "code",
   "execution_count": 16,
   "metadata": {
    "executionInfo": {
     "elapsed": 87,
     "status": "ok",
     "timestamp": 1649485589705,
     "user": {
      "displayName": "Md Yusuf Khan",
      "userId": "15071130410239466117"
     },
     "user_tz": 240
    },
    "id": "_XARHLGC8HTO"
   },
   "outputs": [],
   "source": [
    "# Padding sequence\n",
    "X_train = kprocessing.sequence.pad_sequences(lst_text2seq, maxlen = 40, padding=\"post\", truncating=\"post\")"
   ]
  },
  {
   "cell_type": "code",
   "execution_count": 17,
   "metadata": {
    "colab": {
     "base_uri": "https://localhost:8080/"
    },
    "executionInfo": {
     "elapsed": 90,
     "status": "ok",
     "timestamp": 1649485591723,
     "user": {
      "displayName": "Md Yusuf Khan",
      "userId": "15071130410239466117"
     },
     "user_tz": 240
    },
    "id": "03pjlo5W8VmY",
    "outputId": "09de6421-e231-4308-fd56-ce483dd5b08d"
   },
   "outputs": [
    {
     "data": {
      "text/plain": [
       "(13995, 40)"
      ]
     },
     "execution_count": 17,
     "metadata": {},
     "output_type": "execute_result"
    }
   ],
   "source": [
    "# Shape of feature matrix\n",
    "# Number of sequences x Sequences max length\n",
    "X_train.shape"
   ]
  },
  {
   "cell_type": "code",
   "execution_count": 18,
   "metadata": {
    "colab": {
     "base_uri": "https://localhost:8080/",
     "height": 270
    },
    "executionInfo": {
     "elapsed": 999,
     "status": "ok",
     "timestamp": 1649485596435,
     "user": {
      "displayName": "Md Yusuf Khan",
      "userId": "15071130410239466117"
     },
     "user_tz": 240
    },
    "id": "CAa1glyQ83NF",
    "outputId": "908aa5a6-47bb-4a94-8b53-3cb33e40c10a"
   },
   "outputs": [
    {
     "data": {
      "image/png": "[encoded data removed]",
      "text/plain": [
       "<Figure size 432x288 with 1 Axes>"
      ]
     },
     "metadata": {
      "needs_background": "light"
     },
     "output_type": "display_data"
    }
   ],
   "source": [
    "# Visualizing the feature matrix\n",
    "\n",
    "sns.heatmap(X_train==0, vmin=0, vmax=1, cbar=False)\n",
    "plt.show()"
   ]
  },
  {
   "cell_type": "code",
   "execution_count": 19,
   "metadata": {
    "colab": {
     "base_uri": "https://localhost:8080/"
    },
    "executionInfo": {
     "elapsed": 90,
     "status": "ok",
     "timestamp": 1649485599600,
     "user": {
      "displayName": "Md Yusuf Khan",
      "userId": "15071130410239466117"
     },
     "user_tz": 240
    },
    "id": "EH9kkYVZ9WEF",
    "outputId": "efa8b53a-dd29-4919-a3e3-da5c949928d4"
   },
   "outputs": [
    {
     "name": "stdout",
     "output_type": "stream",
     "text": [
      "from:  professor schauer passion compassion person patient beyond measur help student succeed foster place learn spit right answer schauer encourag question perfect take class profess understand cluelessawesom person class | len: 28\n",
      "to:  [   4 4082  162 1926   72  661  593 3323    6   11  305 2092  433   24\n",
      " 3324  243   91 4082  370   35  688    3    2 1136   37 5564   72    2\n",
      "    0    0    0    0    0    0    0    0    0    0    0    0] | len: 40\n",
      "check:  professor  -- idx in vocabulary --> 4\n",
      "vocabulary:  {'NaN': 1, 'class': 2, 'take': 3, 'professor': 4, 'teacher': 5} ... (padding element, 0)\n"
     ]
    }
   ],
   "source": [
    "# Checking how a given word from the train set has been transformed into a sequence with the padding and the vocabulary\n",
    "\n",
    "i = 0\n",
    "\n",
    "# List of text [\"I like this\", ...]\n",
    "len_txt = len(data_train[\"text_clean\"].iloc[i].split())\n",
    "print(\"from: \", data_train[\"text_clean\"].iloc[i], \"| len:\", len_txt)\n",
    "\n",
    "# Sequence of token ids: [[1, 2, 3], ...]\n",
    "len_tokens = len(X_train[i])\n",
    "print(\"to: \", X_train[i], \"| len:\", len(X_train[i]))\n",
    "\n",
    "# Vocabulary: {\"I\":1, \"like\":2, \"this\":3, ...}\n",
    "print(\"check: \", data_train[\"text_clean\"].iloc[i].split()[0], \n",
    "      \" -- idx in vocabulary -->\", \n",
    "      dic_vocabulary[data_train[\"text_clean\"].iloc[i].split()[0]])\n",
    "\n",
    "print(\"vocabulary: \", dict(list(dic_vocabulary.items())[0:5]), \"... (padding element, 0)\")"
   ]
  },
  {
   "cell_type": "markdown",
   "metadata": {
    "id": "aLJefdeZ-MM2"
   },
   "source": [
    "Feature engineering on testing set"
   ]
  },
  {
   "cell_type": "code",
   "execution_count": 20,
   "metadata": {
    "executionInfo": {
     "elapsed": 960,
     "status": "ok",
     "timestamp": 1649485610594,
     "user": {
      "displayName": "Md Yusuf Khan",
      "userId": "15071130410239466117"
     },
     "user_tz": 240
    },
    "id": "dgjR_FP2-O6T"
   },
   "outputs": [],
   "source": [
    "corpus = data_test[\"text_clean\"]\n",
    "\n",
    "## create list of n-grams\n",
    "lst_corpus = []\n",
    "for string in corpus:\n",
    "    lst_words = string.split()\n",
    "    lst_grams = [\" \".join(lst_words[i:i+1]) for i in range(0, \n",
    "                 len(lst_words), 1)]\n",
    "    lst_corpus.append(lst_grams)\n",
    "    \n",
    "## detect common bigrams and trigrams using the fitted detectors\n",
    "lst_corpus = list(bigrams_detector[lst_corpus])\n",
    "lst_corpus = list(trigrams_detector[lst_corpus])\n",
    "\n",
    "## text to sequence with the fitted tokenizer\n",
    "lst_text2seq = tokenizer.texts_to_sequences(lst_corpus)\n",
    "\n",
    "## padding sequence\n",
    "X_test = kprocessing.sequence.pad_sequences(lst_text2seq, maxlen=40,\n",
    "             padding=\"post\", truncating=\"post\")"
   ]
  },
  {
   "cell_type": "code",
   "execution_count": 21,
   "metadata": {
    "colab": {
     "base_uri": "https://localhost:8080/"
    },
    "executionInfo": {
     "elapsed": 116,
     "status": "ok",
     "timestamp": 1649485613297,
     "user": {
      "displayName": "Md Yusuf Khan",
      "userId": "15071130410239466117"
     },
     "user_tz": 240
    },
    "id": "o6_TLsRa-vNJ",
    "outputId": "83492d44-d629-4b65-b85f-02b5c0d1c019"
   },
   "outputs": [
    {
     "data": {
      "text/plain": [
       "(5998, 40)"
      ]
     },
     "execution_count": 21,
     "metadata": {},
     "output_type": "execute_result"
    }
   ],
   "source": [
    "# Shape of feature matrix\n",
    "# Number of sequences x Sequences max length\n",
    "X_test.shape"
   ]
  },
  {
   "cell_type": "code",
   "execution_count": 22,
   "metadata": {
    "colab": {
     "base_uri": "https://localhost:8080/",
     "height": 270
    },
    "executionInfo": {
     "elapsed": 674,
     "status": "ok",
     "timestamp": 1649485618105,
     "user": {
      "displayName": "Md Yusuf Khan",
      "userId": "15071130410239466117"
     },
     "user_tz": 240
    },
    "id": "zwilrWfn-Ys0",
    "outputId": "30cf78d6-4065-444b-b44d-42a118e016b3"
   },
   "outputs": [
    {
     "data": {
      "image/png": "[encoded data removed]",
      "text/plain": [
       "<Figure size 432x288 with 1 Axes>"
      ]
     },
     "metadata": {
      "needs_background": "light"
     },
     "output_type": "display_data"
    }
   ],
   "source": [
    "# Visualizing the feature matrix\n",
    "sns.heatmap(X_test==0, vmin=0, vmax=1, cbar=False)\n",
    "plt.show()"
   ]
  },
  {
   "cell_type": "code",
   "execution_count": 23,
   "metadata": {
    "executionInfo": {
     "elapsed": 104,
     "status": "ok",
     "timestamp": 1649485621031,
     "user": {
      "displayName": "Md Yusuf Khan",
      "userId": "15071130410239466117"
     },
     "user_tz": 240
    },
    "id": "uKrJmNAM_5Eo"
   },
   "outputs": [],
   "source": [
    "# Creating the matirx of embedding which will be used as weight matrix\n",
    "# Start the matrix (length of vocabulary x vector size) with all 0s\n",
    "embeddings = np.zeros((len(dic_vocabulary)+1, 300))\n",
    "\n",
    "for word,idx in dic_vocabulary.items():\n",
    "    # Update the row with vector\n",
    "    try:\n",
    "        embeddings[idx] =  nlp[word]\n",
    "    # if word not in model then skip and the row stays all 0s\n",
    "    except:\n",
    "        pass"
   ]
  },
  {
   "cell_type": "code",
   "execution_count": 24,
   "metadata": {
    "colab": {
     "base_uri": "https://localhost:8080/"
    },
    "executionInfo": {
     "elapsed": 86,
     "status": "ok",
     "timestamp": 1649485625073,
     "user": {
      "displayName": "Md Yusuf Khan",
      "userId": "15071130410239466117"
     },
     "user_tz": 240
    },
    "id": "NjmGYMXyAXYZ",
    "outputId": "d55e66af-ffcd-4ccc-c532-408fc26354c8"
   },
   "outputs": [
    {
     "data": {
      "text/plain": [
       "(12410, 300)"
      ]
     },
     "execution_count": 24,
     "metadata": {},
     "output_type": "execute_result"
    }
   ],
   "source": [
    "# Shape of embedding matrix: Length of vocabulary extracted from the corpus x Vector size\n",
    "embeddings.shape"
   ]
  },
  {
   "cell_type": "code",
   "execution_count": 25,
   "metadata": {
    "colab": {
     "base_uri": "https://localhost:8080/"
    },
    "executionInfo": {
     "elapsed": 81,
     "status": "ok",
     "timestamp": 1649485628467,
     "user": {
      "displayName": "Md Yusuf Khan",
      "userId": "15071130410239466117"
     },
     "user_tz": 240
    },
    "id": "xfL1E8VrAiN2",
    "outputId": "77c1fa03-f268-421e-eaef-ab49b05e93f9"
   },
   "outputs": [
    {
     "name": "stdout",
     "output_type": "stream",
     "text": [
      "dic[word]: 95 |idx\n",
      "embeddings[idx]: (300,) |vector\n"
     ]
    }
   ],
   "source": [
    "word = \"bad\"\n",
    "print(\"dic[word]:\", dic_vocabulary[word], \"|idx\")\n",
    "print(\"embeddings[idx]:\", embeddings[dic_vocabulary[word]].shape, \n",
    "      \"|vector\")"
   ]
  },
  {
   "cell_type": "markdown",
   "metadata": {
    "id": "r-JDqDsrA-mF"
   },
   "source": [
    "### Creating the neural network\n",
    "Network details:\n",
    "\n",
    "\n",
    "1.   Embedding layer that takes the sequences as input and the word vectors as weights\n",
    "2.   Attention layer that won’t affect the predictions but it’s going to capture the weights of each instance and allow us to build a nice explainer\n",
    "3.   Two layers of Bidirectional LSTM to model the order of words in a sequence in both directions.\n",
    "4.   Two final dense layers that will predict the probability of each sentiment category."
   ]
  },
  {
   "cell_type": "code",
   "execution_count": 26,
   "metadata": {
    "colab": {
     "base_uri": "https://localhost:8080/"
    },
    "executionInfo": {
     "elapsed": 2225,
     "status": "ok",
     "timestamp": 1649485638469,
     "user": {
      "displayName": "Md Yusuf Khan",
      "userId": "15071130410239466117"
     },
     "user_tz": 240
    },
    "id": "EaH3RnJWBBwC",
    "outputId": "ebee78c6-9a95-4397-a582-675550aabe05"
   },
   "outputs": [
    {
     "name": "stdout",
     "output_type": "stream",
     "text": [
      "Model: \"model\"\n",
      "__________________________________________________________________________________________________\n",
      " Layer (type)                   Output Shape         Param #     Connected to                     \n",
      "==================================================================================================\n",
      " input_1 (InputLayer)           [(None, 40)]         0           []                               \n",
      "                                                                                                  \n",
      " embedding (Embedding)          (None, 40, 300)      3723000     ['input_1[0][0]']                \n",
      "                                                                                                  \n",
      " permute (Permute)              (None, 300, 40)      0           ['embedding[0][0]']              \n",
      "                                                                                                  \n",
      " dense (Dense)                  (None, 300, 40)      1640        ['permute[0][0]']                \n",
      "                                                                                                  \n",
      " attention (Permute)            (None, 40, 300)      0           ['dense[0][0]']                  \n",
      "                                                                                                  \n",
      " multiply (Multiply)            (None, 40, 300)      0           ['embedding[0][0]',              \n",
      "                                                                  'attention[0][0]']              \n",
      "                                                                                                  \n",
      " bidirectional (Bidirectional)  (None, 40, 80)       109120      ['multiply[0][0]']               \n",
      "                                                                                                  \n",
      " bidirectional_1 (Bidirectional  (None, 80)          38720       ['bidirectional[0][0]']          \n",
      " )                                                                                                \n",
      "                                                                                                  \n",
      " dense_1 (Dense)                (None, 64)           5184        ['bidirectional_1[0][0]']        \n",
      "                                                                                                  \n",
      " dense_2 (Dense)                (None, 3)            195         ['dense_1[0][0]']                \n",
      "                                                                                                  \n",
      "==================================================================================================\n",
      "Total params: 3,877,859\n",
      "Trainable params: 154,859\n",
      "Non-trainable params: 3,723,000\n",
      "__________________________________________________________________________________________________\n"
     ]
    }
   ],
   "source": [
    "## code attention layer\n",
    "def attention_layer(inputs, neurons):\n",
    "    x = layers.Permute((2,1))(inputs)\n",
    "    x = layers.Dense(neurons, activation=\"softmax\")(x)\n",
    "    x = layers.Permute((2,1), name=\"attention\")(x)\n",
    "    x = layers.multiply([inputs, x])\n",
    "    return x\n",
    "\n",
    "## input\n",
    "x_in = layers.Input(shape=(40,))\n",
    "## embedding\n",
    "x = layers.Embedding(input_dim=embeddings.shape[0],  \n",
    "                     output_dim=embeddings.shape[1], \n",
    "                     weights=[embeddings],\n",
    "                     input_length=40, trainable=False)(x_in)\n",
    "## apply attention\n",
    "x = attention_layer(x, neurons=40)\n",
    "\n",
    "## 2 layers of bidirectional lstm\n",
    "x = layers.Bidirectional(layers.LSTM(units=40, dropout=0.2, \n",
    "                         return_sequences=True))(x)\n",
    "x = layers.Bidirectional(layers.LSTM(units=40, dropout=0.2))(x)\n",
    "## final dense layers\n",
    "x = layers.Dense(64, activation='relu')(x)\n",
    "y_out = layers.Dense(3, activation='softmax')(x)\n",
    "## compile\n",
    "model = models.Model(x_in, y_out)\n",
    "model.compile(loss='sparse_categorical_crossentropy',\n",
    "              optimizer='adam', metrics=['accuracy'])\n",
    "\n",
    "model.summary()"
   ]
  },
  {
   "cell_type": "markdown",
   "metadata": {
    "id": "_M3gRUhlCncE"
   },
   "source": [
    "### Training"
   ]
  },
  {
   "cell_type": "code",
   "execution_count": 27,
   "metadata": {
    "colab": {
     "base_uri": "https://localhost:8080/",
     "height": 295
    },
    "executionInfo": {
     "elapsed": 53676,
     "status": "ok",
     "timestamp": 1649485711223,
     "user": {
      "displayName": "Md Yusuf Khan",
      "userId": "15071130410239466117"
     },
     "user_tz": 240
    },
    "id": "ANKdL8e8OTCc",
    "outputId": "9868cadc-adb3-46d9-d07b-bf417ebae79d"
   },
   "outputs": [
    {
     "data": {
      "image/png": "[encoded data removed]",
      "text/plain": [
       "<Figure size 432x288 with 4 Axes>"
      ]
     },
     "metadata": {
      "needs_background": "light"
     },
     "output_type": "display_data"
    }
   ],
   "source": [
    "## encode y\n",
    "dic_y_mapping = {n:label for n,label in \n",
    "                 enumerate(np.unique(y_train))}\n",
    "inverse_dic = {v:k for k,v in dic_y_mapping.items()}\n",
    "y_train = np.array([inverse_dic[y] for y in y_train])\n",
    "## train\n",
    "training = model.fit(x=X_train, y=y_train, batch_size=256, \n",
    "                     epochs=10, shuffle=True, verbose=0, \n",
    "                     validation_split=0.3)\n",
    "\n",
    "## plot loss and accuracy\n",
    "metrics = [k for k in training.history.keys() if (\"loss\" not in k) and (\"val\" not in k)]\n",
    "fig, ax = plt.subplots(nrows=1, ncols=2, sharey=True)\n",
    "ax[0].set(title=\"Training\")\n",
    "ax11 = ax[0].twinx()\n",
    "ax[0].plot(training.history['loss'], color='black')\n",
    "ax[0].set_xlabel('Epochs')\n",
    "ax[0].set_ylabel('Loss', color='black')\n",
    "for metric in metrics:\n",
    "    ax11.plot(training.history[metric], label=metric)\n",
    "ax11.set_ylabel(\"Score\", color='steelblue')\n",
    "ax11.legend()\n",
    "ax[1].set(title=\"Validation\")\n",
    "ax22 = ax[1].twinx()\n",
    "ax[1].plot(training.history['val_loss'], color='black')\n",
    "ax[1].set_xlabel('Epochs')\n",
    "ax[1].set_ylabel('Loss', color='black')\n",
    "for metric in metrics:\n",
    "     ax22.plot(training.history['val_'+metric], label=metric)\n",
    "ax22.set_ylabel(\"Score\", color=\"steelblue\")\n",
    "plt.show()"
   ]
  },
  {
   "cell_type": "markdown",
   "metadata": {
    "id": "G84pYCOHOeqL"
   },
   "source": [
    "### Testing"
   ]
  },
  {
   "cell_type": "code",
   "execution_count": 28,
   "metadata": {
    "executionInfo": {
     "elapsed": 4792,
     "status": "ok",
     "timestamp": 1649485724375,
     "user": {
      "displayName": "Md Yusuf Khan",
      "userId": "15071130410239466117"
     },
     "user_tz": 240
    },
    "id": "bEEfsDI5OeFb"
   },
   "outputs": [],
   "source": [
    "predicted_prob = model.predict(X_test)\n",
    "predicted = [dic_y_mapping[np.argmax(pred)] for pred in predicted_prob]"
   ]
  },
  {
   "cell_type": "markdown",
   "metadata": {
    "id": "HZUxszvVFGW5"
   },
   "source": [
    "### Visualizing the results"
   ]
  },
  {
   "cell_type": "code",
   "execution_count": 29,
   "metadata": {
    "colab": {
     "base_uri": "https://localhost:8080/",
     "height": 799
    },
    "executionInfo": {
     "elapsed": 930,
     "status": "ok",
     "timestamp": 1649485727390,
     "user": {
      "displayName": "Md Yusuf Khan",
      "userId": "15071130410239466117"
     },
     "user_tz": 240
    },
    "id": "7G0D1HY0hyal",
    "outputId": "f7c21185-3bda-4e4f-8c7b-2d5c440a7894"
   },
   "outputs": [
    {
     "name": "stdout",
     "output_type": "stream",
     "text": [
      "Accuracy: 0.66\n",
      "Auc: 0.76\n",
      "Detail:\n",
      "              precision    recall  f1-score   support\n",
      "\n",
      "     Average       0.33      0.01      0.02      1012\n",
      "         Bad       0.52      0.63      0.57      1435\n",
      "        Good       0.72      0.86      0.79      3551\n",
      "\n",
      "    accuracy                           0.66      5998\n",
      "   macro avg       0.52      0.50      0.46      5998\n",
      "weighted avg       0.61      0.66      0.61      5998\n",
      "\n"
     ]
    },
    {
     "data": {
      "image/png": "[encoded data removed]",
      "text/plain": [
       "<Figure size 432x288 with 1 Axes>"
      ]
     },
     "metadata": {
      "needs_background": "light"
     },
     "output_type": "display_data"
    },
    {
     "data": {
      "image/png": "[encoded data removed]",
      "text/plain": [
       "<Figure size 432x288 with 2 Axes>"
      ]
     },
     "metadata": {
      "needs_background": "light"
     },
     "output_type": "display_data"
    }
   ],
   "source": [
    "from sklearn import metrics\n",
    "\n",
    "classes = np.unique(y_test)\n",
    "y_test_array = pd.get_dummies(y_test, drop_first=False).values\n",
    "    \n",
    "# Accuracy, Precision, Recall\n",
    "accuracy = metrics.accuracy_score(y_test, predicted)\n",
    "auc = metrics.roc_auc_score(y_test, predicted_prob, \n",
    "                            multi_class=\"ovr\")\n",
    "print(\"Accuracy:\",  round(accuracy,2))\n",
    "print(\"Auc:\", round(auc,2))\n",
    "print(\"Detail:\")\n",
    "print(metrics.classification_report(y_test, predicted))\n",
    "    \n",
    "# Plot confusion matrix\n",
    "cm = metrics.confusion_matrix(y_test, predicted)\n",
    "fig, ax = plt.subplots()\n",
    "sns.heatmap(cm, annot=True, fmt='d', ax=ax, cmap=plt.cm.Blues, \n",
    "            cbar=False)\n",
    "ax.set(xlabel=\"Pred\", ylabel=\"True\", xticklabels=classes, \n",
    "       yticklabels=classes, title=\"Confusion matrix\")\n",
    "plt.yticks(rotation=0)\n",
    "\n",
    "fig, ax = plt.subplots(nrows=1, ncols=2)\n",
    "\n",
    "# Plot roc\n",
    "for i in range(len(classes)):\n",
    "    fpr, tpr, thresholds = metrics.roc_curve(y_test_array[:,i],  \n",
    "                           predicted_prob[:,i])\n",
    "    ax[0].plot(fpr, tpr, lw=3, \n",
    "              label='{0} (area={1:0.2f})'.format(classes[i], \n",
    "                              metrics.auc(fpr, tpr))\n",
    "               )\n",
    "ax[0].plot([0,1], [0,1], color='navy', lw=3, linestyle='--')\n",
    "ax[0].set(xlim=[-0.05,1.0], ylim=[0.0,1.05], \n",
    "          xlabel='False Positive Rate', \n",
    "          ylabel=\"True Positive Rate (Recall)\", \n",
    "          title=\"Receiver operating characteristic\")\n",
    "ax[0].legend(loc=\"lower right\")\n",
    "ax[0].grid(True)\n",
    "    \n",
    "# Plot precision-recall curve\n",
    "for i in range(len(classes)):\n",
    "    precision, recall, thresholds = metrics.precision_recall_curve(\n",
    "                 y_test_array[:,i], predicted_prob[:,i])\n",
    "    ax[1].plot(recall, precision, lw=3, \n",
    "               label='{0} (area={1:0.2f})'.format(classes[i], \n",
    "                                  metrics.auc(recall, precision))\n",
    "              )\n",
    "ax[1].set(xlim=[0.0,1.05], ylim=[0.0,1.05], xlabel='Recall', \n",
    "          ylabel=\"Precision\", title=\"Precision-Recall curve\")\n",
    "ax[1].legend(loc=\"best\")\n",
    "ax[1].grid(True)\n",
    "plt.show()"
   ]
  },
  {
   "cell_type": "markdown",
   "metadata": {
    "id": "Fh-zhtlsF_sb"
   },
   "source": [
    "### Using explainer model to explain a classification"
   ]
  },
  {
   "cell_type": "code",
   "execution_count": 34,
   "metadata": {
    "colab": {
     "base_uri": "https://localhost:8080/",
     "height": 389
    },
    "executionInfo": {
     "elapsed": 979,
     "status": "ok",
     "timestamp": 1649485837067,
     "user": {
      "displayName": "Md Yusuf Khan",
      "userId": "15071130410239466117"
     },
     "user_tz": 240
    },
    "id": "sIC3UMbt5sM_",
    "outputId": "d4be6176-6d7a-4961-85d4-a32a13516507"
   },
   "outputs": [
    {
     "name": "stdout",
     "output_type": "stream",
     "text": [
      "True: Good --> Pred: Good | Prob: 0.88\n",
      "Good: She is one of the most amazing teachers you could have. Sweet, caring, and genuine. She really loves what she teaches and it shows! She makes English/Literature fun and is just a pleasure to have as a teacher!\n"
     ]
    },
    {
     "data": {
      "image/png": "[encoded data removed]",
      "text/plain": [
       "<Figure size 432x288 with 1 Axes>"
      ]
     },
     "metadata": {
      "needs_background": "light"
     },
     "output_type": "display_data"
    },
    {
     "name": "stdout",
     "output_type": "stream",
     "text": [
      "\n",
      "\u001b[1mText with highlighted words\n",
      "\n"
     ]
    },
    {
     "data": {
      "text/html": [
       "<b><span style=\"background-color:rgba(100,149,237,0.025418561);\">she</span></b> is <b><span style=\"background-color:rgba(100,149,237,0.029208036);\">one</span></b> of the <b><span style=\"background-color:rgba(100,149,237,0.027010143);\">most</span></b> amazing teachers you <b><span style=\"background-color:rgba(100,149,237,0.027166856);\">could</span></b> have <b><span style=\"background-color:rgba(100,149,237,0.02703591);\">sweet</span></b> caring <b><span style=\"background-color:rgba(100,149,237,0.0242296);\">and</span></b> genuine <b><span style=\"background-color:rgba(100,149,237,0.025418561);\">she</span></b> really loves <b><span style=\"background-color:rgba(100,149,237,0.023447504);\">what</span></b> <b><span style=\"background-color:rgba(100,149,237,0.025418561);\">she</span></b> teaches <b><span style=\"background-color:rgba(100,149,237,0.0242296);\">and</span></b> it shows <b><span style=\"background-color:rgba(100,149,237,0.025418561);\">she</span></b> makes englishliterature <b><span style=\"background-color:rgba(100,149,237,0.02467597);\">fun</span></b> <b><span style=\"background-color:rgba(100,149,237,0.0242296);\">and</span></b> is just a pleasure to have <b><span style=\"background-color:rgba(100,149,237,0.02210879);\">as</span></b> a <b><span style=\"background-color:rgba(100,149,237,0.021868099);\">teacher</span></b>"
      ],
      "text/plain": [
       "<IPython.core.display.HTML object>"
      ]
     },
     "metadata": {},
     "output_type": "display_data"
    }
   ],
   "source": [
    "# Select observation\n",
    "i = 13\n",
    "txt_instance = data_test[\"text\"].iloc[i]\n",
    "\n",
    "# Check true class and predicted class\n",
    "print(\"True:\", y_test[i], \"--> Pred:\", predicted[i], \"| Prob:\", round(np.max(predicted_prob[i]),2))\n",
    "print(y_test[i] + \": \" + data_test[\"text\"].iloc[i])\n",
    "\n",
    "# Show explanation\n",
    "\n",
    "# 1. preprocess input\n",
    "lst_corpus = []\n",
    "for string in [re.sub(r'[^\\w\\s]','', txt_instance.lower().strip())]:\n",
    "    lst_words = string.split()\n",
    "    lst_grams = [\" \".join(lst_words[i:i+1]) for i in range(0, \n",
    "                 len(lst_words), 1)]\n",
    "    lst_corpus.append(lst_grams)\n",
    "lst_corpus = list(bigrams_detector[lst_corpus])\n",
    "lst_corpus = list(trigrams_detector[lst_corpus])\n",
    "X_instance = kprocessing.sequence.pad_sequences(\n",
    "              tokenizer.texts_to_sequences(corpus), maxlen=40, \n",
    "              padding=\"post\", truncating=\"post\")\n",
    "\n",
    "# 2. Get attention weights\n",
    "layer = [layer for layer in model.layers if \"attention\" in \n",
    "         layer.name][0]\n",
    "func = K.function([model.input], [layer.output])\n",
    "weights = func(X_instance)[0]\n",
    "weights = np.mean(weights, axis=2).flatten()\n",
    "\n",
    "# 3. Rescale weights, remove null vector, map word-weight\n",
    "dic_word_weigth = {word:weights[n] for n,word in \n",
    "                   enumerate(lst_corpus[0]) if word in \n",
    "                   tokenizer.word_index.keys()}\n",
    "\n",
    "# 4. Barplot to see contribution of word\n",
    "if len(dic_word_weigth) > 0:\n",
    "   dtf = pd.DataFrame.from_dict(dic_word_weigth, orient='index', \n",
    "                                columns=[\"score\"])\n",
    "   dtf.sort_values(by=\"score\", \n",
    "           ascending=True).tail(3).plot(kind=\"barh\", \n",
    "           legend=False).grid(axis='x')\n",
    "   plt.show()\n",
    "else:\n",
    "   print(\"--- No word recognized ---\")\n",
    "\n",
    "# 5. Produce html visualization\n",
    "text = []\n",
    "for word in lst_corpus[0]:\n",
    "    weight = dic_word_weigth.get(word)\n",
    "    if weight is not None:\n",
    "         text.append('<b><span style=\"background-color:rgba(100,149,237,' + str(weight) + ');\">' + word + '</span></b>')\n",
    "    else:\n",
    "         text.append(word)\n",
    "text = ' '.join(text)\n",
    "\n",
    "# 6. Visualize on notebook\n",
    "print(\"\\n\\033[1m\"+\"Text with highlighted words\\n\")\n",
    "from IPython.core.display import display, HTML\n",
    "display(HTML(text))"
   ]
  }
 ],
 "metadata": {
  "accelerator": "GPU",
  "colab": {
   "authorship_tag": "ABX9TyP29dQZlkeTwxiQg+o2TDx0",
   "collapsed_sections": [],
   "mount_file_id": "1Uq7F8IoC51iFu_Z1EDyaSdOjWTuU1V3q",
   "name": "COMP5014-NLP-Project.ipynb",
   "provenance": []
  },
  "kernelspec": {
   "display_name": "Python 3 (ipykernel)",
   "language": "python",
   "name": "python3"
  },
  "language_info": {
   "codemirror_mode": {
    "name": "ipython",
    "version": 3
   },
   "file_extension": ".py",
   "mimetype": "text/x-python",
   "name": "python",
   "nbconvert_exporter": "python",
   "pygments_lexer": "ipython3",
   "version": "3.7.9"
  }
 },
 "nbformat": 4,
 "nbformat_minor": 1
}
